{
 "cells": [
  {
   "cell_type": "markdown",
   "metadata": {},
   "source": [
    "Gaussian Naive Bayes Wine"
   ]
  },
  {
   "cell_type": "code",
   "execution_count": 162,
   "metadata": {},
   "outputs": [],
   "source": [
    "import csv as csv\n",
    "import pandas as pd\n",
    "import numpy as np\n",
    "\n",
    "train = pd.read_csv('wine-reviews\\winemag-data_first150k.csv', header=0)"
   ]
  },
  {
   "cell_type": "markdown",
   "metadata": {},
   "source": [
    "We are going to load the wine dataset. This dataset has wine data from 49 countrues with 2 attributes. We will be using the points and price of the wine to classift the country the wine is from."
   ]
  },
  {
   "cell_type": "code",
   "execution_count": 163,
   "metadata": {},
   "outputs": [
    {
     "name": "stdout",
     "output_type": "stream",
     "text": [
      "(150930, 11)\n"
     ]
    },
    {
     "data": {
      "text/html": [
       "<div>\n",
       "<style scoped>\n",
       "    .dataframe tbody tr th:only-of-type {\n",
       "        vertical-align: middle;\n",
       "    }\n",
       "\n",
       "    .dataframe tbody tr th {\n",
       "        vertical-align: top;\n",
       "    }\n",
       "\n",
       "    .dataframe thead th {\n",
       "        text-align: right;\n",
       "    }\n",
       "</style>\n",
       "<table border=\"1\" class=\"dataframe\">\n",
       "  <thead>\n",
       "    <tr style=\"text-align: right;\">\n",
       "      <th></th>\n",
       "      <th>Unnamed: 0</th>\n",
       "      <th>country</th>\n",
       "      <th>description</th>\n",
       "      <th>designation</th>\n",
       "      <th>points</th>\n",
       "      <th>price</th>\n",
       "      <th>province</th>\n",
       "      <th>region_1</th>\n",
       "      <th>region_2</th>\n",
       "      <th>variety</th>\n",
       "      <th>winery</th>\n",
       "    </tr>\n",
       "  </thead>\n",
       "  <tbody>\n",
       "    <tr>\n",
       "      <th>0</th>\n",
       "      <td>0</td>\n",
       "      <td>US</td>\n",
       "      <td>This tremendous 100% varietal wine hails from ...</td>\n",
       "      <td>Martha's Vineyard</td>\n",
       "      <td>96</td>\n",
       "      <td>235.0</td>\n",
       "      <td>California</td>\n",
       "      <td>Napa Valley</td>\n",
       "      <td>Napa</td>\n",
       "      <td>Cabernet Sauvignon</td>\n",
       "      <td>Heitz</td>\n",
       "    </tr>\n",
       "    <tr>\n",
       "      <th>1</th>\n",
       "      <td>1</td>\n",
       "      <td>Spain</td>\n",
       "      <td>Ripe aromas of fig, blackberry and cassis are ...</td>\n",
       "      <td>Carodorum Selección Especial Reserva</td>\n",
       "      <td>96</td>\n",
       "      <td>110.0</td>\n",
       "      <td>Northern Spain</td>\n",
       "      <td>Toro</td>\n",
       "      <td>NaN</td>\n",
       "      <td>Tinta de Toro</td>\n",
       "      <td>Bodega Carmen Rodríguez</td>\n",
       "    </tr>\n",
       "    <tr>\n",
       "      <th>2</th>\n",
       "      <td>2</td>\n",
       "      <td>US</td>\n",
       "      <td>Mac Watson honors the memory of a wine once ma...</td>\n",
       "      <td>Special Selected Late Harvest</td>\n",
       "      <td>96</td>\n",
       "      <td>90.0</td>\n",
       "      <td>California</td>\n",
       "      <td>Knights Valley</td>\n",
       "      <td>Sonoma</td>\n",
       "      <td>Sauvignon Blanc</td>\n",
       "      <td>Macauley</td>\n",
       "    </tr>\n",
       "    <tr>\n",
       "      <th>3</th>\n",
       "      <td>3</td>\n",
       "      <td>US</td>\n",
       "      <td>This spent 20 months in 30% new French oak, an...</td>\n",
       "      <td>Reserve</td>\n",
       "      <td>96</td>\n",
       "      <td>65.0</td>\n",
       "      <td>Oregon</td>\n",
       "      <td>Willamette Valley</td>\n",
       "      <td>Willamette Valley</td>\n",
       "      <td>Pinot Noir</td>\n",
       "      <td>Ponzi</td>\n",
       "    </tr>\n",
       "    <tr>\n",
       "      <th>4</th>\n",
       "      <td>4</td>\n",
       "      <td>France</td>\n",
       "      <td>This is the top wine from La Bégude, named aft...</td>\n",
       "      <td>La Brûlade</td>\n",
       "      <td>95</td>\n",
       "      <td>66.0</td>\n",
       "      <td>Provence</td>\n",
       "      <td>Bandol</td>\n",
       "      <td>NaN</td>\n",
       "      <td>Provence red blend</td>\n",
       "      <td>Domaine de la Bégude</td>\n",
       "    </tr>\n",
       "  </tbody>\n",
       "</table>\n",
       "</div>"
      ],
      "text/plain": [
       "   Unnamed: 0 country                                        description  \\\n",
       "0           0      US  This tremendous 100% varietal wine hails from ...   \n",
       "1           1   Spain  Ripe aromas of fig, blackberry and cassis are ...   \n",
       "2           2      US  Mac Watson honors the memory of a wine once ma...   \n",
       "3           3      US  This spent 20 months in 30% new French oak, an...   \n",
       "4           4  France  This is the top wine from La Bégude, named aft...   \n",
       "\n",
       "                            designation  points  price        province  \\\n",
       "0                     Martha's Vineyard      96  235.0      California   \n",
       "1  Carodorum Selección Especial Reserva      96  110.0  Northern Spain   \n",
       "2         Special Selected Late Harvest      96   90.0      California   \n",
       "3                               Reserve      96   65.0          Oregon   \n",
       "4                            La Brûlade      95   66.0        Provence   \n",
       "\n",
       "            region_1           region_2             variety  \\\n",
       "0        Napa Valley               Napa  Cabernet Sauvignon   \n",
       "1               Toro                NaN       Tinta de Toro   \n",
       "2     Knights Valley             Sonoma     Sauvignon Blanc   \n",
       "3  Willamette Valley  Willamette Valley          Pinot Noir   \n",
       "4             Bandol                NaN  Provence red blend   \n",
       "\n",
       "                    winery  \n",
       "0                    Heitz  \n",
       "1  Bodega Carmen Rodríguez  \n",
       "2                 Macauley  \n",
       "3                    Ponzi  \n",
       "4     Domaine de la Bégude  "
      ]
     },
     "execution_count": 163,
     "metadata": {},
     "output_type": "execute_result"
    }
   ],
   "source": [
    "print(train.shape)\n",
    "train.head()"
   ]
  },
  {
   "cell_type": "markdown",
   "metadata": {},
   "source": [
    "We extract the columns that contain the country, points ,and price."
   ]
  },
  {
   "cell_type": "code",
   "execution_count": 164,
   "metadata": {},
   "outputs": [],
   "source": [
    "country=train.values[:,1]\n",
    "points=train.values[:,4]\n",
    "price=train.values[:,5]\n",
    "\n",
    "x=np.array(train.values[:,4:6])\n",
    "y=[]\n",
    "for g in range (100):\n",
    "    y.append(np.array(train.values[g,4:6]))\n",
    "    "
   ]
  },
  {
   "cell_type": "markdown",
   "metadata": {},
   "source": [
    "We are plotting he data for the top 3 countries to show that there is a lot of overlap among the datapoints."
   ]
  },
  {
   "cell_type": "code",
   "execution_count": 165,
   "metadata": {},
   "outputs": [
    {
     "data": {
      "image/png": "[encoded data removed]",
      "text/plain": [
       "<Figure size 432x288 with 1 Axes>"
      ]
     },
     "metadata": {},
     "output_type": "display_data"
    }
   ],
   "source": [
    "import matplotlib.pyplot as plt\n",
    "\n",
    "for h in range(1000):\n",
    "    #print(country[h])\n",
    "    if country[h]==str(\"US\"):\n",
    "         plt.plot(points[h],price[h],'bo')\n",
    "    if country[h]==str(\"Italy\"):\n",
    "         plt.plot(points[h],price[h],'ro')\n",
    "    if country[h]==str(\"France\"):\n",
    "         plt.plot(points[h],price[h],'go')    \n",
    "        \n",
    "        "
   ]
  },
  {
   "cell_type": "code",
   "execution_count": 166,
   "metadata": {},
   "outputs": [
    {
     "name": "stdout",
     "output_type": "stream",
     "text": [
      "['US', 'Italy', 'France', 'Spain', 'Chile', 'Argentina', 'Portugal', 'Australia', 'New Zealand', 'Austria', 'Germany', 'South Africa', 'Greece', 'Israel', 'Hungary', 'Canada', 'Romania', 'Slovenia', 'Uruguay', 'Croatia', 'Bulgaria', 'Moldova', 'Mexico', 'Turkey', 'Georgia', 'Lebanon', 'Cyprus', 'Brazil', 'Macedonia', 'Serbia', 'Morocco', 'England', 'Luxembourg', 'India', 'Lithuania', 'Czech Republic', nan, 'Ukraine', 'Switzerland', 'Bosnia and Herzegovina', 'South Korea', 'China', 'Slovakia', 'Egypt', 'Albania', 'Japan', 'Montenegro', 'Tunisia', 'US-France']\n",
      "[62397, 23478, 21098, 8268, 5816, 5631, 5322, 4957, 3320, 3057, 2452, 2258, 884, 630, 231, 196, 139, 94, 92, 89, 77, 71, 63, 52, 43, 37, 31, 25, 16, 14, 12, 9, 9, 8, 8, 6, 5, 5, 4, 4, 4, 3, 3, 3, 2, 2, 2, 2, 1]\n"
     ]
    }
   ],
   "source": [
    "from collections import Counter\n",
    "counts = Counter(country)\n",
    "#print(counts)\n",
    "common_country=[]\n",
    "country_freq=[]\n",
    "f=counts.most_common(49)\n",
    "for j in range (49):\n",
    "    common_country.append(f[j][0])\n",
    "    country_freq.append(f[j][1])\n",
    "    \n",
    "print(common_country)\n",
    "print(country_freq)    "
   ]
  },
  {
   "cell_type": "markdown",
   "metadata": {},
   "source": [
    "We are determining the most commong countries in our dataset and the frequency of how many times each country appears."
   ]
  },
  {
   "cell_type": "code",
   "execution_count": 167,
   "metadata": {},
   "outputs": [
    {
     "name": "stdout",
     "output_type": "stream",
     "text": [
      "(2, 150930)\n"
     ]
    }
   ],
   "source": [
    "data=np.vstack((points,price))\n",
    "print(data.shape)"
   ]
  },
  {
   "cell_type": "markdown",
   "metadata": {},
   "source": [
    "Functions that are used to fold the data and to perform k-fold cross validation."
   ]
  },
  {
   "cell_type": "code",
   "execution_count": 168,
   "metadata": {},
   "outputs": [],
   "source": [
    "def folds(data,k,split): #split is what size split you want\n",
    "    #n = np.zeros((k,split,data.shape[1]))\n",
    "    n = []\n",
    "    num1 = 0\n",
    "    num2 = split\n",
    "    for i in range(k-1):\n",
    "        n.append(data[num1:num2])\n",
    "        num1 = num2\n",
    "        num2 = num2 + split\n",
    "    n.append(data[num1:])\n",
    "    return n\n",
    "\n",
    "from sklearn.naive_bayes import GaussianNB\n",
    "model = GaussianNB()\n",
    "\n",
    "def cross_validation_winegaus(k, splitdata, splitlabels):\n",
    "    z = np.zeros(k)\n",
    "    final = [];\n",
    "    for i in range(k):\n",
    "        training_data = np.concatenate(np.delete(splitdata, i,0),axis=0)\n",
    "        train_labels = np.concatenate(np.delete(splitlabels, i,0),axis=0)\n",
    "        test_data = splitdata[i]\n",
    "        test_labels = splitlabels[i]    \n",
    "        model.fit(training_data.astype(float),train_labels.astype(float))\n",
    "        predicted= model.predict(test_data.astype(float))\n",
    "        acc = predicted-test_labels.astype(float)\n",
    "        z[i]=np.count_nonzero(acc)/acc.size\n",
    "        final = np.concatenate((final,predicted))\n",
    "    return np.mean(z),final"
   ]
  },
  {
   "cell_type": "code",
   "execution_count": 169,
   "metadata": {},
   "outputs": [],
   "source": [
    "all_country=np.zeros(150930)           \n",
    "for m in range (150930):\n",
    "    for n in range(49):    \n",
    "        if country[m] == common_country[n]:\n",
    "            #np.concatenate((new_country,np.array([l])),axis=0)\n",
    "            #np.append(new_country,l)\n",
    "            all_country[m]=n\n",
    "            \n",
    "for x in range(data.shape[1]):\n",
    "    if math.isnan(data[0][x]):\n",
    "                data[0][x]=0\n",
    "    if math.isnan(data[1][x]):\n",
    "                data[1][x]=0            \n",
    "\n",
    "train_fold=folds(np.transpose(data),5,30186)\n",
    "test_fold=folds(all_country,5,30186)\n",
    "# for h in range(5):\n",
    "#     print(train_fold[h].shape)\n",
    "#     print(test_fold[h].shape)\n",
    "    \n",
    "splitdata=np.asarray([train_fold[0],train_fold[1],train_fold[2],train_fold[3],train_fold[4]])  \n",
    "splitlabels=np.asarray([test_fold[0],test_fold[1],test_fold[2],test_fold[3],test_fold[4]])"
   ]
  },
  {
   "cell_type": "markdown",
   "metadata": {},
   "source": [
    "We have performed k-fold cross validation for classification iwth k=5. In this case, there were 4 folds used for testing and 1 fold used for testing. With this implementation each data sample was only used once for testing.\n"
   ]
  },
  {
   "cell_type": "markdown",
   "metadata": {},
   "source": [
    "Here we will use the Sci-kit learn GuassianNB Bayes function. We will plug our training data into model.fit() function and we will make predictions using the model.predict() function. The way GaussianNB works is that it iterates through every possible class of the output and calculates the mean and the standard deviation of ech feature of the training data that corresponds to that class. The mean is given by the sum of the elements divided by the total number of elements in the training set. The standard deviation is is given by taking each data sample and subtracting the mean of that feature and taking the square of the result. This value is summed for all of the data samples for each feature and is then  divided by the number of training samples per feature. This gives us the variance. Finally we take the square root of the data to obtain the standard deviation.  "
   ]
  },
  {
   "cell_type": "markdown",
   "metadata": {},
   "source": [
    "Once we have the mean and standard deviation for each feature in the training data we plug value of the test data into the Gaussian distribution equation in order to determine the probability that each test sample belongs to a class. \n",
    "\\begin{equation*}\n",
    "N(\\mu,sigma^2) = \\Bigg[ \\frac{1}{(\\sqrt {2 \\pi*sigma^2})} \\exp \\; \\bigg[ -\\frac{1}{2} \\bigg(\\frac{\\pmb x - \\mu}{2*sigma^2} \\bigg)^2 \\bigg] \\Bigg]\n",
    "\\end{equation*}"
   ]
  },
  {
   "cell_type": "markdown",
   "metadata": {},
   "source": [
    "In the above equation the mu represents the mean and the sigma^2 represents the standard deviation. x represents the sample that we are testing. We will plug into this equation for each test sample to obtain the probability that it belongs to each class. The feature with the greatest probability will be the prediction for the data sample.\n",
    "    "
   ]
  },
  {
   "cell_type": "code",
   "execution_count": 170,
   "metadata": {},
   "outputs": [
    {
     "name": "stdout",
     "output_type": "stream",
     "text": [
      "Accuracy: 0.6156628900814947\n"
     ]
    }
   ],
   "source": [
    "from sklearn.naive_bayes import GaussianNB\n",
    "model = GaussianNB()\n",
    "\n",
    "\n",
    "acc,l=cross_validation_winegaus(5,splitdata,splitlabels)\n",
    "print(\"Accuracy:\", acc)"
   ]
  },
  {
   "cell_type": "markdown",
   "metadata": {},
   "source": [
    "The accuracy of the model is 0.616. This is relatively low since the amount of features in our data was relatively low as well. we only had 2 features in the data with numerical values that were usable. This made it difficult for our alogrithm to be successful. Also it may be possible for their to be little correlation between the data and the output value. "
   ]
  },
  {
   "cell_type": "code",
   "execution_count": 171,
   "metadata": {},
   "outputs": [
    {
     "name": "stdout",
     "output_type": "stream",
     "text": [
      "[69.74998798 71.780092   73.49369608 69.75108853 64.58596974 67.27561712\n",
      " 73.85174746 59.56344563 57.30331325 71.87602224 75.72593801 64.97962799\n",
      " 65.54072398 76.68730159 63.98268398 74.88265306 64.52517986 88.23404255\n",
      " 60.75       81.59550562 65.7012987  58.92957746 84.76190476 88.09615385\n",
      " 77.79069767 74.48648649 61.22580645 79.88       58.875      87.71428571\n",
      " 81.33333333 92.88888889 58.         87.625      84.25       85.83333333\n",
      "  0.         84.6        45.         84.75       81.5        54.66666667\n",
      " 56.33333333 83.66666667 88.         85.         82.          0.\n",
      "  0.        ]\n",
      "[26.9140183  24.35480024 26.16181629 20.84059023 14.9485901  16.66116143\n",
      " 16.4485156  21.84890054 14.95813253 19.73110893 32.6276509  15.70416298\n",
      " 16.55769231 26.77142857 32.37229437 28.53571429 10.07913669 24.18085106\n",
      " 16.81521739 21.25842697  9.45454545 11.3943662  29.0952381  24.80769231\n",
      " 17.46511628 21.2972973  11.41935484 19.4        10.5        24.28571429\n",
      " 18.33333333 42.22222222 27.11111111 13.875      10.         18.\n",
      "  0.         13.         12.25       12.75       13.5        18.\n",
      " 10.33333333  0.         20.         24.         10.          0.\n",
      "  0.        ]\n"
     ]
    }
   ],
   "source": [
    "sep_country_points=np.zeros(49)\n",
    "sep_country_price=np.zeros(49)\n",
    "#all_country_points=np.zeros((49,62397))\n",
    "#all_country_price=np.zeros((49,62397))\n",
    "import math\n",
    "\n",
    "for t in range (120000):\n",
    "    for l in range(49):    \n",
    "        if country[t] == common_country[l]:\n",
    "            sep_country_points[l]=sep_country_points[l] + points[t]\n",
    "            #for k in range (62397):\n",
    "               # if all_country_points[l][k] ==0:\n",
    "               # all_country_points[l][k] = points[t]\n",
    "               # break\n",
    "                \n",
    "            if math.isnan(price[t]):\n",
    "                price[t]=0\n",
    "               \n",
    "            sep_country_price[l]=sep_country_price[l] + price[t]\n",
    "          #  for k in range (62397): \n",
    "          #  if all_country_price[l][k] ==0:\n",
    "          #      all_country_price[l][k] = price[t]\n",
    "          #      break\n",
    "            #print(price[t],type(price[t]))\n",
    "    \n",
    "\n",
    "sep_country_points=sep_country_points/country_freq\n",
    "print(sep_country_points)\n",
    "\n",
    "sep_country_price=sep_country_price/country_freq\n",
    "print(sep_country_price)"
   ]
  },
  {
   "cell_type": "code",
   "execution_count": 172,
   "metadata": {},
   "outputs": [
    {
     "name": "stdout",
     "output_type": "stream",
     "text": [
      "[16.42527393 15.22453163 14.32616666 15.34535308 19.05484877 16.84819764\n",
      " 13.27768916 23.537484   24.63230442 15.84756047 12.26798208 19.31128483\n",
      " 18.11355571 10.24453762 20.29045924 12.64748687 18.25276198  1.99694198\n",
      " 20.40903066  5.36353221 17.70546843 22.10963581  2.82682325  1.5598276\n",
      "  8.13197207 11.12345938 21.20257514  3.64321616 22.29689142  1.09730654\n",
      "  7.28900745  1.2862041  23.68778401  3.4255474   0.4330127   0.68718427\n",
      "  1.          1.0198039  31.81980515  2.04633819  0.5        22.31757321\n",
      " 23.08839696  0.47140452  1.          1.          1.          1.\n",
      "  1.        ]\n",
      "[0.02076861 0.03220785 0.03521383 0.0502059  0.05069766 0.05439511\n",
      " 0.05559374 0.06639041 0.06712274 0.0803393  0.115354   0.08339604\n",
      " 0.13685913 0.20614153 0.37435251 0.38156307 0.2692801  0.50719138\n",
      " 0.42752088 0.48873176 0.35040877 0.40060458 0.67958015 0.69070327\n",
      " 0.63731114 0.7586848  0.60693186 0.88090862 0.81009259 1.31707778\n",
      " 1.23603308 2.1659543  1.73561104 1.31695672 1.11803399 1.73205081\n",
      " 1.         1.61245155 1.75       1.78535711 1.83711731 2.44948974\n",
      " 1.85592145 1.         3.16227766 3.46410162 2.23606798 1.\n",
      " 1.        ]\n"
     ]
    }
   ],
   "source": [
    "std_country_points=np.zeros(49)\n",
    "std_country_price=np.zeros(49)\n",
    "for t in range (120000):\n",
    "    for l in range(49):    \n",
    "        if country[t] == common_country[l]:\n",
    "            std_country_points[l]=std_country_points[l] + math.pow((points[t]-sep_country_points[l]),2)\n",
    "            if math.isnan(price[t]):\n",
    "                price[t]=0\n",
    "               \n",
    "            std_country_price[l]=std_country_price[l] + math.pow((points[t]-sep_country_price[l]),2)\n",
    "            \n",
    "std_country_points=np.sqrt(std_country_points/country_freq)          \n",
    "std_country_price=np.sqrt(sep_country_price/country_freq)            \n",
    "\n",
    "for r in range(49):\n",
    "    if std_country_points[r] ==0:\n",
    "        std_country_points[r]=1;\n",
    "    if std_country_price[r] ==0:\n",
    "        std_country_price[r]=1;\n",
    "print(std_country_points)\n",
    "print(std_country_price)"
   ]
  },
  {
   "cell_type": "markdown",
   "metadata": {},
   "source": [
    "Wine Classification Dataset 1 kNN"
   ]
  },
  {
   "cell_type": "code",
   "execution_count": 173,
   "metadata": {},
   "outputs": [],
   "source": [
    "import pandas as pd\n",
    "file = pd.read_csv(\"wine-reviews/winemag-data_first150k.csv\")\n",
    "import numpy as np\n",
    "import math\n",
    "from collections import Counter\n",
    "import random"
   ]
  },
  {
   "cell_type": "code",
   "execution_count": 174,
   "metadata": {},
   "outputs": [],
   "source": [
    "country = file.values[:,1]\n",
    "score = file.values[:,4]\n",
    "price = file.values[:,5]\n",
    "variety = file.values[:,9]\n",
    "totalinput = file.values[:,4:6]"
   ]
  },
  {
   "cell_type": "markdown",
   "metadata": {},
   "source": [
    "The wine classification used only contains 2 features that can be used.  Because of this, there seems to be a lack of correlation between the features and classification.  The error seen by kNN is very high.  Also, the kNN implementation has a time complexity of atleast O(N^2).  Because of this, the algorithm cannot take advantage of all 150k+ datapoints.  The implementation of kNN for this is using 2000 datapoints for one iteration of knn and 1000 datapoints to find the best k.  Becuase of these reasons, we decided to use another wine dataset to classify as well."
   ]
  },
  {
   "cell_type": "code",
   "execution_count": 175,
   "metadata": {},
   "outputs": [
    {
     "name": "stdout",
     "output_type": "stream",
     "text": [
      "Using k = 5 and 2000 total datapoints(1500 training, 500 test), the percent error is % 56.599999999999994 .\n"
     ]
    }
   ],
   "source": [
    "test = totalinput[:500]\n",
    "testans = country[:500]\n",
    "training = totalinput[500:2000]\n",
    "trainingans = country[500:2000]\n",
    "g = knn(5,training,test,trainingans)\n",
    "d = knnerror(g,testans)\n",
    "print(\"Using k = 5 and 2000 total datapoints(1500 training, 500 test), the percent error is %\",d*100,\".\")"
   ]
  },
  {
   "cell_type": "code",
   "execution_count": 176,
   "metadata": {},
   "outputs": [
    {
     "name": "stdout",
     "output_type": "stream",
     "text": [
      "The best value of k using crossvalidation is 20 and the error associated is % 52.5 .\n"
     ]
    }
   ],
   "source": [
    "foldsinput = totalinput[:1000]\n",
    "foldslabel = country[:1000]\n",
    "j = folds(foldsinput,5,200)\n",
    "t = folds(foldslabel,5,200)\n",
    "a,b = bestk([1,5,10,20,50],5,j,t)\n",
    "print(\"The best value of k using crossvalidation is\",a,\"and the error associated is %\",b*100,\".\")"
   ]
  },
  {
   "cell_type": "markdown",
   "metadata": {},
   "source": [
    "Wine Classification Dataset 2 kNN"
   ]
  },
  {
   "cell_type": "code",
   "execution_count": 177,
   "metadata": {},
   "outputs": [],
   "source": [
    "import pandas as pd\n",
    "file = pd.read_csv('wine.csv')\n",
    "import numpy as np\n",
    "import math\n",
    "from collections import Counter\n",
    "import random\n",
    "from matplotlib import pyplot as plt"
   ]
  },
  {
   "cell_type": "code",
   "execution_count": 178,
   "metadata": {},
   "outputs": [
    {
     "name": "stdout",
     "output_type": "stream",
     "text": [
      "(13,)\n"
     ]
    },
    {
     "data": {
      "image/png": "[encoded data removed]",
      "text/plain": [
       "<Figure size 432x288 with 1 Axes>"
      ]
     },
     "metadata": {},
     "output_type": "display_data"
    }
   ],
   "source": [
    "total = file.values\n",
    "labels = file.values[:,0]\n",
    "data = file.values[:,1:]\n",
    "datat = data.T      #   -------PCA-------\n",
    "mdata = datat.mean(axis = 1)  #Find mean\n",
    "print(mdata.shape)\n",
    "mdatam = np.tile(mdata.reshape(datat.shape[0],1),[1,datat.shape[1]]) #Make mean meatrix that spans dataset\n",
    "center = datat - mdatam  #Center all the data by subtracting by mean\n",
    "U, s, v = np.linalg.svd(center) #Find singular value components\n",
    "Uusing = U[:,0:2] #Take top 2 eigenvectors\n",
    "x = Uusing.T@center #apply eigenvectors to centered data\n",
    "test = x[:,:40].T\n",
    "testlabels = labels[:40]\n",
    "traindata = x[:,40:].T\n",
    "trainlabels = labels[40:]\n",
    "plt.title(\"PCA Data Distribution\")\n",
    "plt.scatter(x.T[np.where(labels==1),0],x.T[np.where(labels==1),1],c='r',marker='o',label = '1')\n",
    "plt.scatter(x.T[np.where(labels==2),0],x.T[np.where(labels==2),1],c='g',marker='s',label = '2')\n",
    "plt.scatter(x.T[np.where(labels==3),0],x.T[np.where(labels==3),1],c='b',marker='s',label = '3')\n",
    "plt.show()"
   ]
  },
  {
   "cell_type": "markdown",
   "metadata": {},
   "source": [
    "Using PCA, we are able to visualize the data being used with minor data being loss. While the data isn't perfectly seperable, there seems to be a correlation between the dataset and the labels.  PCA is used because it allows us to reduce the dimensionality of the data.  Normally, we use this in order to speed up an algorithm we are using.  In this case, we can use it to visualize the relationship between data points."
   ]
  },
  {
   "cell_type": "code",
   "execution_count": 179,
   "metadata": {},
   "outputs": [],
   "source": [
    "def knn(k,train,test,trainanswer):\n",
    "    dist = np.zeros((train.shape[0],))\n",
    "    testans = np.zeros((test.shape[0],),dtype = object)\n",
    "    for g in range(testans.shape[0]):\n",
    "        for i in range(trainanswer.shape[0]):\n",
    "            dist[i] = np.linalg.norm(train[i] - test[g])\n",
    "        c = Counter(trainanswer[np.argsort(dist)][:k])\n",
    "        testans[g] = c.most_common(1)[0][0]\n",
    "    return testans"
   ]
  },
  {
   "cell_type": "markdown",
   "metadata": {},
   "source": [
    "This is the generic knn algorithm being used for classification.  In order to classify using knn, you need to find the distance between your test point and each of the training data.  Then, find the k smallest distances' datapoints and their classification.  Finally, choose the most seen classification between the k datapoints."
   ]
  },
  {
   "cell_type": "code",
   "execution_count": 180,
   "metadata": {},
   "outputs": [],
   "source": [
    "def knnerror(testans,actualans):\n",
    "    error = 0\n",
    "    for i in range(testans.shape[0]):\n",
    "        if (testans[i] != actualans[i]):\n",
    "            error = error + 1;\n",
    "    error = error/(testans.shape[0])\n",
    "    return error"
   ]
  },
  {
   "cell_type": "markdown",
   "metadata": {},
   "source": [
    "Knnerror is used to find the error between the generated test classifiers and the actual labels.  Every classification error increases the error value by one.  It returns the percent error found by dividing the toal error and the total datapoints."
   ]
  },
  {
   "cell_type": "code",
   "execution_count": 181,
   "metadata": {},
   "outputs": [],
   "source": [
    "def folds(data,k,split):\n",
    "    n = []\n",
    "    num1 = 0\n",
    "    num2 = split\n",
    "    for i in range(k-1):\n",
    "        n.append(data[num1:num2])\n",
    "        num1 = num2\n",
    "        num2 = num2 + split\n",
    "    n.append(data[num1:])\n",
    "    return n"
   ]
  },
  {
   "cell_type": "markdown",
   "metadata": {},
   "source": [
    "Folds is used to create folds that will be used in cross validation.  It takes in the data, how many folds you want, and the amount for each split.  If the splits do not divide evenly, the final split will contain an amount of data not equal to the split. "
   ]
  },
  {
   "cell_type": "code",
   "execution_count": 182,
   "metadata": {},
   "outputs": [],
   "source": [
    "def cross_validationknn(splitnum, splitdata, splitlabels,k):\n",
    "    z = np.zeros(splitnum)\n",
    "    final = [];\n",
    "    for i in range(splitnum):\n",
    "        training_data = np.concatenate(np.delete(splitdata, i,0),axis=0)\n",
    "        train_labels = np.concatenate(np.delete(splitlabels, i,0),axis=0)\n",
    "        test_data = splitdata[i]\n",
    "        test_labels = splitlabels[i]\n",
    "        y_tested = knn(k,training_data,test_data,train_labels)\n",
    "        z[i] = knnerror(y_tested,test_labels)\n",
    "        final = np.concatenate((final,y_tested))\n",
    "    return np.mean(z),final"
   ]
  },
  {
   "cell_type": "markdown",
   "metadata": {},
   "source": [
    "Cross validation is used to find the best value for k.  It uses the folds created by the folds function.  What the function does is perform knn multiple times where each fold becomes the test data once and the rest of the folds become the training data.  It computes the knnerror each time knn is run.  The output is the mean of all the error percentages and all the labels that the folds created."
   ]
  },
  {
   "cell_type": "code",
   "execution_count": 183,
   "metadata": {},
   "outputs": [],
   "source": [
    "def bestk(k,splitnum,splitdata,splitlabels):\n",
    "    j = [];\n",
    "    for i in range(len(k)):\n",
    "        j.append((cross_validationknn(splitnum,splitdata,splitlabels,k[i]))[0])\n",
    "    error = min(j)\n",
    "    bestk = k[j.index(min(j))]\n",
    "    return bestk,error  "
   ]
  },
  {
   "cell_type": "markdown",
   "metadata": {},
   "source": [
    "Bestk is used in conjunction with crossvalidation.  Bestk runs crossvalidation with different values of k(k in kNN) and chooses the k value with the least error.  It returns the best k value and the error associated with it."
   ]
  },
  {
   "cell_type": "code",
   "execution_count": 184,
   "metadata": {},
   "outputs": [
    {
     "name": "stdout",
     "output_type": "stream",
     "text": [
      "kNN error using PCA is % 27.500000000000004 .\n"
     ]
    }
   ],
   "source": [
    "g = knn(5,traindata,test,trainlabels)\n",
    "d = knnerror(g,testlabels)\n",
    "print(\"kNN error using PCA is %\",d*100,\".\")"
   ]
  },
  {
   "cell_type": "code",
   "execution_count": 185,
   "metadata": {},
   "outputs": [
    {
     "data": {
      "image/png": "[encoded data removed]",
      "text/plain": [
       "<Figure size 432x288 with 1 Axes>"
      ]
     },
     "metadata": {},
     "output_type": "display_data"
    }
   ],
   "source": [
    "plt.scatter(test[np.where(g==1),0],test[np.where(g==1),1],c='r',marker='^')\n",
    "plt.scatter(test[np.where(g==2),0],test[np.where(g==2),1],c='g',marker='^')\n",
    "plt.scatter(test[np.where(g==3),0],test[np.where(g==3),1],c='b',marker='^')\n",
    "plt.scatter(traindata[np.where(trainlabels==1),0],traindata[np.where(trainlabels==1),1],c='r',marker='o')\n",
    "plt.scatter(traindata[np.where(trainlabels==2),0],traindata[np.where(trainlabels==2),1],c='g',marker='o')\n",
    "plt.scatter(traindata[np.where(trainlabels==3),0],traindata[np.where(trainlabels==3),1],c='b',marker='o')\n",
    "plt.title('PCA KNN')\n",
    "plt.show()"
   ]
  },
  {
   "cell_type": "code",
   "execution_count": 186,
   "metadata": {},
   "outputs": [
    {
     "name": "stdout",
     "output_type": "stream",
     "text": [
      "The best value of k using crossvalidation is  1 and the error associated is % 34.53281853281853 .\n"
     ]
    }
   ],
   "source": [
    "j = folds(data,5,35)\n",
    "t = folds(labels,5,35)\n",
    "a,b = bestk([1,5,10,20,50],5,j,t)\n",
    "print(\"The best value of k using crossvalidation is \",a,\"and the error associated is %\",b*100,\".\")"
   ]
  },
  {
   "cell_type": "markdown",
   "metadata": {},
   "source": [
    "We ended up switching to a different wine dataset, as the first dataset (from kaggle), only had two features that were numerical and easily used for classification. This proved to be insufficient. So, we switched to a new dataset.\n",
    "\n"
   ]
  },
  {
   "cell_type": "markdown",
   "metadata": {},
   "source": [
    "Wine SVM"
   ]
  },
  {
   "cell_type": "code",
   "execution_count": 187,
   "metadata": {},
   "outputs": [],
   "source": [
    "#imports\n",
    "import numpy as np\n",
    "from sklearn import svm, metrics, linear_model\n",
    "import matplotlib.pyplot as plt\n",
    "import pandas as pd"
   ]
  },
  {
   "cell_type": "code",
   "execution_count": 188,
   "metadata": {},
   "outputs": [
    {
     "ename": "SyntaxError",
     "evalue": "EOF while scanning triple-quoted string literal (<ipython-input-188-31d241994c46>, line 31)",
     "output_type": "error",
     "traceback": [
      "\u001b[1;36m  File \u001b[1;32m\"<ipython-input-188-31d241994c46>\"\u001b[1;36m, line \u001b[1;32m31\u001b[0m\n\u001b[1;33m    ''''''\u001b[0m\n\u001b[1;37m          \n^\u001b[0m\n\u001b[1;31mSyntaxError\u001b[0m\u001b[1;31m:\u001b[0m EOF while scanning triple-quoted string literal\n"
     ]
    }
   ],
   "source": [
    "#This section is to show how only two features is insufficient at classifying wines by their country of origin\n",
    "'''\n",
    "wine = np.array(pd.read_csv('wine123.csv', header=None))\n",
    "#Get countries in wine\n",
    "count = 0\n",
    "countries = {}\n",
    "for i in range(len(wine)):\n",
    "    if wine[i,1] not in countries:\n",
    "        countries[wine[i,1]] = count\n",
    "        count +=  1\n",
    "        \n",
    "for i in range(len(wine)):\n",
    "    wine[i,1] = countries[wine[i,1]]\n",
    "\n",
    "wine_countries = wine[:,1]\n",
    "wine_features = np.vstack((wine[1::,4], wine[1::,5]))\n",
    "wine_features[1,0] = 0\n",
    "\n",
    "for i in range(len(wine_features)):\n",
    "    for j in range(len(wine_features[0])):\n",
    "        try:\n",
    "            wine_features[i,j] = float(wine_features[i,j])\n",
    "        except:\n",
    "            wine_features[i,j] = 0\n",
    "print(wine_countries.shape)\n",
    "print(wine_features)\n",
    "wine_svm = svm.LinearSVC(penalty='l2', loss='hinge', max_iter = 20000, tol=0.001, multi_class='ovr')\n",
    "\n",
    "wine_svm.fit(wine_features.transpose(), wine_countries)\n",
    "print(wine_svm.score(wine_features.transpose(), wine_countries))\n",
    "''''''"
   ]
  },
  {
   "cell_type": "code",
   "execution_count": null,
   "metadata": {},
   "outputs": [],
   "source": [
    "#Load new dataset\n",
    "wine = np.array(pd.read_csv('Wine.csv', header=None))\n",
    "wine_labels = wine[:,0]\n",
    "wine_features = wine[:,1::].transpose()"
   ]
  },
  {
   "cell_type": "code",
   "execution_count": null,
   "metadata": {},
   "outputs": [],
   "source": [
    "#Since we had more success with one vs. Rest classification, that's the approach we will be taking here\n",
    "#Create class labels\n",
    "classone_labels = [1 if x == 1 else 0 for x in labels]\n",
    "\n",
    "classtwo_labels = [1 if x == 2 else 0 for x in labels]\n",
    "\n",
    "classthree_labels = [1 if x == 3 else 0 for x in labels]\n",
    "\n",
    "class_labels = [classone_labels, classtwo_labels, classthree_labels]\n",
    "\n",
    "#Normalize data\n",
    "\n",
    "for i in range(len(wine_features)):\n",
    "    feature = wine_features[i]\n",
    "    length = len(feature)\n",
    "    mean = np.mean(feature)\n",
    "    stdev = np.std(feature)\n",
    "    wine_features[i] = (feature - [mean]*length)/stdev    \n",
    "#Train SVMs\n",
    "wine_svms = []\n",
    "\n",
    "for i in range(0,3):\n",
    "    _svm = svm.LinearSVC(penalty='l2', loss='hinge', max_iter = 20000, tol=0.001, verbose=1)\n",
    "    _svm.fit(wine_features.transpose(), class_labels[i])\n",
    "    wine_svms.append(_svm)"
   ]
  },
  {
   "cell_type": "code",
   "execution_count": null,
   "metadata": {},
   "outputs": [],
   "source": [
    "#Classification. We'll be reusing the prediction function we defined earlier\n",
    "OVA_wine_predictions = []\n",
    "for i in range(len(wine_features[0])):\n",
    "    wine = wine_features[:,i]\n",
    "    prediction = getPrediction(wine.reshape(1,len(wine)), wine_svms, [1,2,3])\n",
    "    OVA_wine_predictions.append(prediction)\n",
    "\n",
    "#Calculate accuracy based on # of correct classifications\n",
    "correct = 0\n",
    "for i in range(len(OVA_wine_predictions)):\n",
    "    if OVA_wine_predictions[i] == wine_labels[i]:\n",
    "        correct += 1\n",
    "print(\"Accuracy: \" + str(correct/len(OVA_wine_predictions)))"
   ]
  },
  {
   "cell_type": "code",
   "execution_count": null,
   "metadata": {},
   "outputs": [],
   "source": [
    "#Load new dataset\n",
    "wine = np.array(pd.read_csv('Wine.csv', header=None))\n",
    "wine_labels = wine[:,0]\n",
    "wine_features = wine[:,1::].transpose()\n",
    "\n",
    "#This section is to show how only two features is insufficient at clasisfyinh wine\n",
    "wine_svm = svm.LinearSVC(penalty='l2', loss='hinge', max_iter = 20000, tol=0.001, multi_class='ovr')\n",
    "\n",
    "wine_svm.fit(wine_features.transpose(), wine_labels)\n",
    "print(wine_svm.score(wine_features.transpose(), wine_labels))"
   ]
  },
  {
   "cell_type": "markdown",
   "metadata": {},
   "source": [
    "Flag Classification SVM"
   ]
  },
  {
   "cell_type": "code",
   "execution_count": null,
   "metadata": {},
   "outputs": [],
   "source": [
    "#load dataset\n",
    "flags = np.array(pd.read_csv('flags.data', header=None))\n",
    "#194 flags, 30 attributes"
   ]
  },
  {
   "cell_type": "code",
   "execution_count": null,
   "metadata": {},
   "outputs": [],
   "source": [
    "flag_names = flags.transpose()[0]\n",
    "flag_features = flags.transpose()[1::]\n",
    "\n",
    "#We need to do a little preprocessing. Not every feature is a number.\n",
    "#Features 18 (mainhue), 29 (color in top left), and 30 (color in top right) are strings\n",
    "\n",
    "color_map = {'red' : 1, 'green' : 2, 'blue' : 3, 'gold' : 4, 'white' : 5, 'black' : 6, 'orange' : 7, 'brown' : 8}\n",
    "mainhue = flag_features[16]\n",
    "col_toplef = flag_features[-2]\n",
    "col_botrig = flag_features[-1]\n",
    "\n",
    "mainhue_num = [color_map[mainhue[i]] for i in range(len(mainhue))]\n",
    "ctl_num = [color_map[col_toplef[i]] for i in range(len(col_toplef))]\n",
    "cbr_num = [color_map[col_botrig[i]] for i in range(len(col_botrig))]"
   ]
  },
  {
   "cell_type": "code",
   "execution_count": null,
   "metadata": {},
   "outputs": [],
   "source": [
    "#replace the appropriate features in the data matrix\n",
    "flag_features[16] = mainhue_num\n",
    "flag_features[-2] = ctl_num\n",
    "flag_features[-1] = cbr_num\n",
    "\n",
    "#Standardize the features\n",
    "\n",
    "for i in range(len(flag_features)):\n",
    "    feature = flag_features[i]\n",
    "    length = len(feature)\n",
    "    mean = np.mean(feature)\n",
    "    stdev = np.std(feature)\n",
    "    flag_features[i] = (feature - [mean]*length)/stdev"
   ]
  },
  {
   "cell_type": "code",
   "execution_count": null,
   "metadata": {},
   "outputs": [],
   "source": [
    "#We will build a one vs. all multiclass classifier utilizing SVMs as the binary classifier\n",
    "#This requires the training of 193 SVM classifiers\n",
    "\n",
    "#Generate list of training labels \n",
    "#We're going to create an array of zeros with a single 1 at the position of each target flag\n",
    "#This is necessary since we're doing one vs all classification. The flag in question is 1, while everything else is a 0.\n",
    "training_labels = []\n",
    "for i in range(len(flag_names)):\n",
    "    temp = np.zeros(len(flag_features[0]))\n",
    "    temp[i] = 1\n",
    "    training_labels.append(temp)"
   ]
  },
  {
   "cell_type": "code",
   "execution_count": null,
   "metadata": {},
   "outputs": [],
   "source": [
    "#Create 193 SVM classifiers\n",
    "svms = []\n",
    "for labels in training_labels:\n",
    "    _svm = svm.LinearSVC(penalty='l2', loss='hinge', max_iter = 20000, tol=0.001)\n",
    "    _svm.fit(flag_features.transpose(), labels)\n",
    "    svms.append(_svm)"
   ]
  },
  {
   "cell_type": "code",
   "execution_count": null,
   "metadata": {},
   "outputs": [],
   "source": [
    "#The array of svms is our classifier\n",
    "def getPrediction(X, svms, labels):\n",
    "    confidences = []\n",
    "    for _svm in svms:\n",
    "        confidences.append(_svm.decision_function(X))\n",
    "    return labels[confidences.index(max(confidences))]# max(confidences))"
   ]
  },
  {
   "cell_type": "code",
   "execution_count": null,
   "metadata": {},
   "outputs": [],
   "source": [
    "OVA_flag_predictions = []\n",
    "for i in range(len(flag_features[0])):\n",
    "    flag = flag_features[:,i]\n",
    "    prediction = getPrediction(flag.reshape(1,len(flag)), svms, flag_names)\n",
    "    OVA_flag_predictions.append(prediction)\n",
    "    print(\"Predicted: \" + prediction + \"\\tActual: \" + flag_names[i])"
   ]
  },
  {
   "cell_type": "code",
   "execution_count": null,
   "metadata": {},
   "outputs": [],
   "source": [
    "#Try new attempt, one vs one classification\n",
    "#Train N(N-1)/2 binary classifiers\n",
    "#Certain flags are very similar - this might have more success\n",
    "#We are limited in the sense that each flag only has one sample. \n",
    "oneSVMs = []\n",
    "\n",
    "blah = np.vstack((flag_features[:,0], flag_features[:,9]))\n",
    "\n",
    "for i in range(len(flag_features[0])):\n",
    "    svmlist = []\n",
    "    for j in range(1, len(flag_features[0])):    \n",
    "        _svm = svm.LinearSVC(penalty='l2', loss='hinge', max_iter = 20000, tol=0.001)\n",
    "        _svm.fit(np.vstack((flag_features[:,i], flag_features[:,j])), [1,0])\n",
    "        svmlist.append(_svm)\n",
    "    oneSVMs.append(svmlist)"
   ]
  },
  {
   "cell_type": "code",
   "execution_count": null,
   "metadata": {},
   "outputs": [],
   "source": [
    "#Notes - each individual SVM takes less time to train. But, we have to train a lot more of them (18,741). \n",
    "def getOVOPrediction(oneSVMs, x, labels):\n",
    "    predictions = []\n",
    "    for svmlist in oneSVMs:\n",
    "        predictionlist = []\n",
    "        for _svm in svmlist:\n",
    "            predictionlist.append(_svm.predict(x))\n",
    "        predictions.append(predictionlist.count([1]))\n",
    "    return labels[predictions.index(max(predictions))]"
   ]
  },
  {
   "cell_type": "code",
   "execution_count": null,
   "metadata": {},
   "outputs": [],
   "source": [
    "flag_predictions = []\n",
    "for i in range(len(flag_features[0])):\n",
    "    flag = flag_features[:,i].reshape(1,29)\n",
    "    prediction = getOVOPrediction(oneSVMs, flag, flag_names)\n",
    "    flag_predictions.append(prediction)\n",
    "    print(\"Predicted: \" + prediction + \"\\tActual: \" + flag_names[i])"
   ]
  },
  {
   "cell_type": "code",
   "execution_count": null,
   "metadata": {},
   "outputs": [],
   "source": [
    "def Accuracy(predictions, actual):\n",
    "    #Based on 0-1 loss metric\n",
    "    correct = 0\n",
    "    for i in range(len(predictions)):\n",
    "        if predictions[i] == actual[i]:\n",
    "            correct += 1\n",
    "    return round(correct/len(actual),3)"
   ]
  },
  {
   "cell_type": "code",
   "execution_count": null,
   "metadata": {},
   "outputs": [],
   "source": [
    "#One vs. All Accuracy\n",
    "print(Accuracy(OVA_flag_predictions, flag_names))\n",
    "\n",
    "#One vs. One Accuracy\n",
    "print(Accuracy(flag_predictions, flag_names))"
   ]
  },
  {
   "cell_type": "markdown",
   "metadata": {},
   "source": [
    "Analysis"
   ]
  },
  {
   "cell_type": "markdown",
   "metadata": {},
   "source": [
    "We find that one vs. all classification actually had more success than one vs. one classification"
   ]
  },
  {
   "cell_type": "markdown",
   "metadata": {},
   "source": [
    "Flags kNN"
   ]
  },
  {
   "cell_type": "code",
   "execution_count": null,
   "metadata": {},
   "outputs": [],
   "source": [
    "import pandas as pd\n",
    "file2 = pd.read_csv(\"flag.data\")\n",
    "import numpy as np\n",
    "import math\n",
    "from collections import Counter\n",
    "import random\n",
    "from matplotlib import pyplot as plt"
   ]
  },
  {
   "cell_type": "code",
   "execution_count": null,
   "metadata": {},
   "outputs": [],
   "source": [
    "total = file2.values\n",
    "labels = file2.values[:,10]\n",
    "data = file2.values[:,1:10]\n",
    "data = np.column_stack((data,file2.values[:,11:17]))\n",
    "data = np.column_stack((data,file2.values[:,18:28]))\n",
    "data = np.array(data,dtype=float)\n",
    "datat = data.T      #------PCA Steps Seen in Second Wine--------\n",
    "meandata = datat.mean(axis = 1)\n",
    "meanmat = np.tile(meandata.reshape(datat.shape[0],1),[1,datat.shape[1]])\n",
    "center = datat - meanmat\n",
    "U, s, Vh = np.linalg.svd(center)\n",
    "U2 = U[:,0:2]\n",
    "x = U2.T@center\n",
    "test = x[:,:40].T\n",
    "testlabels = labels[:40]\n",
    "traindata = x[:,40:].T\n",
    "trainlabels = labels[40:]\n",
    "plt.title(\"PCA Data Distribution\")\n",
    "plt.scatter(x.T[np.where(labels==0),0],x.T[np.where(labels==0),1],c='r',marker='o',label = '1')\n",
    "plt.scatter(x.T[np.where(labels==1),0],x.T[np.where(labels==1),1],c='g',marker='s',label = '2')\n",
    "plt.show()"
   ]
  },
  {
   "cell_type": "markdown",
   "metadata": {},
   "source": [
    "Data shown on graph using PCA.  It uses a similiar process to Wine Classification Dataset 2."
   ]
  },
  {
   "cell_type": "code",
   "execution_count": null,
   "metadata": {},
   "outputs": [],
   "source": [
    "g = knn(5,traindata,test,trainlabels)\n",
    "d = knnerror(g,testlabels)\n",
    "print(\"kNN error using PCA is %\",d*100,\".\")"
   ]
  },
  {
   "cell_type": "code",
   "execution_count": null,
   "metadata": {},
   "outputs": [],
   "source": [
    "plt.scatter(test[np.where(g==0),0],test[np.where(g==0),1],c='r',marker='^')\n",
    "plt.scatter(test[np.where(g==1),0],test[np.where(g==1),1],c='g',marker='^')\n",
    "plt.scatter(traindata[np.where(trainlabels==0),0],traindata[np.where(trainlabels==0),1],c='r',marker='o')\n",
    "plt.scatter(traindata[np.where(trainlabels==1),0],traindata[np.where(trainlabels==1),1],c='g',marker='o')\n",
    "plt.title('PCA KNN')\n",
    "plt.show()"
   ]
  },
  {
   "cell_type": "code",
   "execution_count": null,
   "metadata": {},
   "outputs": [],
   "source": [
    "j = folds(data,5,35)\n",
    "t = folds(labels,5,35)\n",
    "a,b = bestk([1,5,10,20,50],5,j,t)\n",
    "print(\"The best value of k using crossvalidation is\",a,\"and the error associated is %\",b*100,\".\")"
   ]
  },
  {
   "cell_type": "markdown",
   "metadata": {},
   "source": [
    "Flag Gaussian Naive Bayes Classification"
   ]
  },
  {
   "cell_type": "code",
   "execution_count": null,
   "metadata": {},
   "outputs": [],
   "source": [
    "flag_data=[];\n",
    "with open('flag.txt') as f:    \n",
    "    for line in f:\n",
    "        data = line.split()\n",
    "        flag_data.append(data[0].split(\",\"))  "
   ]
  },
  {
   "cell_type": "markdown",
   "metadata": {},
   "source": [
    "We extract the column that contains a boolean value describing whether or not the color red is in the flag."
   ]
  },
  {
   "cell_type": "code",
   "execution_count": null,
   "metadata": {},
   "outputs": [],
   "source": [
    "import numpy as np\n",
    "land=[]\n",
    "red=[]\n",
    "for g in range (len(flag_data)):\n",
    "    red.append(flag_data[g][10])\n",
    "    land.append(flag_data[g][1])\n",
    "red=np.asarray(red)\n",
    "land=np.asarray(land)\n",
    "print(red.shape)"
   ]
  },
  {
   "cell_type": "markdown",
   "metadata": {},
   "source": [
    "We extract the numerical values from the dataset and concatence the data together to perform classification."
   ]
  },
  {
   "cell_type": "code",
   "execution_count": null,
   "metadata": {},
   "outputs": [],
   "source": [
    "data1=np.asarray([i[1:10] for i in flag_data])\n",
    "data2=np.asarray([i[11:17] for i in flag_data])\n",
    "data3=np.asarray([i[18:28] for i in flag_data])\n",
    "data=np.hstack((data1,data2))\n",
    "data=np.hstack((data,data3))"
   ]
  },
  {
   "cell_type": "markdown",
   "metadata": {},
   "source": [
    "We have 194 data samples and 25 attributes for each data sample. This is relatively small amount of data samples, and could potientally lead to high classification error."
   ]
  },
  {
   "cell_type": "code",
   "execution_count": null,
   "metadata": {},
   "outputs": [],
   "source": [
    "np.set_printoptions(threshold=np.nan)\n",
    "print(data.shape)\n",
    "#print(data)"
   ]
  },
  {
   "cell_type": "markdown",
   "metadata": {},
   "source": [
    "Here we will use the Sci-kit learn GuassianNB Bayes function. We will plug our training data into model.fit() function and we will make predictions using the model.predict() function. The way GaussianNB works is that it iterates through every possible class of the output and calculates the mean and the standard deviation of ech feature of the training data that corresponds to that class. The mean is given by the sum of the elements divided by the total number of elements in the training set. The standard deviation is is given by taking each data sample and subtracting the mean of that feature and taking the square of the result. This value is summed for all of the data samples for each feature and is then  divided by the number of training samples per feature. This gives us the variance. Finally we take the square root of the data to obtain the standard deviation."
   ]
  },
  {
   "cell_type": "markdown",
   "metadata": {},
   "source": [
    "In the above equation the mu represents the mean and the sigma^2 represents the standard deviation. x represents the sample that we are testing. We will plug into this equation for each test sample to obtain the probability that it belongs to each class. The feature with the greatest probability will be the prediction for the data sample."
   ]
  },
  {
   "cell_type": "code",
   "execution_count": null,
   "metadata": {},
   "outputs": [],
   "source": [
    "from sklearn.naive_bayes import GaussianNB\n",
    "model = GaussianNB()\n",
    "\n",
    "train_fold=folds(data,5,39)\n",
    "test_fold=folds(red,5,39)\n",
    "# for h in range(5):\n",
    "#     print(train_fold[h].shape)\n",
    "#     print(test_fold[h].shape)\n",
    "    \n",
    "splitdata=np.asarray([train_fold[0],train_fold[1],train_fold[2],train_fold[3],train_fold[4]])  \n",
    "splitlabels=np.asarray([test_fold[0],test_fold[1],test_fold[2],test_fold[3],test_fold[4]])  \n",
    "\n",
    "def cross_validation(k, splitdata, splitlabels):\n",
    "    z = np.zeros(k)\n",
    "    final = [];\n",
    "    for i in range(k):\n",
    "        training_data = np.concatenate(np.delete(splitdata, i,0),axis=0)\n",
    "        train_labels = np.concatenate(np.delete(splitlabels, i,0),axis=0)\n",
    "        test_data = splitdata[i]\n",
    "        test_labels = splitlabels[i]    \n",
    "        model.fit(training_data.astype(float),train_labels.astype(float))\n",
    "        predicted= model.predict(test_data.astype(float))\n",
    "        acc = predicted-test_labels.astype(float)\n",
    "        z[i]=np.count_nonzero(acc)/acc.size\n",
    "        final = np.concatenate((final,predicted))\n",
    "    return np.mean(z),final    \n",
    "    \n",
    "acc,l=cross_validation(5,splitdata,splitlabels)\n",
    "print(\"Accuracy:\", acc)"
   ]
  },
  {
   "cell_type": "markdown",
   "metadata": {},
   "source": [
    "We have performed k-fold cross validation for classification iwth k=5. In this case, there were 4 folds used for testing and 1 fold used for testing. With this implementation each data sample was only used once for testing.\n",
    "The accuracy of the model is 0.45. This is relatively low since the size of our data was relatively low as well. we only had 194 x 25 data samples altogether. This made it difficult for our alogrithm to be successful. Also it may be possible for their to be little correlation between the data and the output value. "
   ]
  },
  {
   "cell_type": "markdown",
   "metadata": {},
   "source": [
    "\n",
    "In order for the classification to improve, we may try to predict a different feature and determine if that has improved results. Also, we may want to obtain more data to improve our model."
   ]
  },
  {
   "cell_type": "markdown",
   "metadata": {},
   "source": [
    "Automobiles Dataset Lasso Regression"
   ]
  },
  {
   "cell_type": "code",
   "execution_count": null,
   "metadata": {},
   "outputs": [],
   "source": [
    "#Will Perform LASSO Regression in an attempt to predict the price of an automobile given its different attributes\n",
    "#Load dataset\n",
    "cars = np.array(pd.read_csv('cars.data', header=None))"
   ]
  },
  {
   "cell_type": "code",
   "execution_count": null,
   "metadata": {},
   "outputs": [],
   "source": [
    "#Data preprocessing\n",
    "#Not all entries are numerical, such as make, fuel type, number of doors, body style, etc\n",
    "\n",
    "#make\n",
    "make = {'alfa-romero' : 0, 'audi' : 1, 'bmw' :  2, 'chevrolet' : 3, 'dodge' : 4, 'honda' : 5, \n",
    "'isuzu' : 6, 'jaguar' : 7, 'mazda' : 8, 'mercedes-benz' : 9, 'mercury' : 10, \n",
    "'mitsubishi' : 11, 'nissan' : 12, 'peugot' : 13, 'plymouth' : 14, 'porsche' : 15, \n",
    "'renault' : 16, 'saab' : 17, 'subaru' : 18, 'toyota' : 19, 'volkswagen' : 20, 'volvo' : 21}\n",
    "#fuel type\n",
    "fuel_type = {'diesel' : 0, 'gas' : 1}\n",
    "#aspiration\n",
    "aspiration = {'std' : 0, 'turbo' : 1}\n",
    "#num doors\n",
    "num_doors = {'four' : 0, 'two' : 1}\n",
    "#body style \n",
    "body_style = {'hardtop' : 0, 'wagon' : 1, 'sedan' : 2, 'hatchback' : 3, 'convertible' : 4}\n",
    "#drive-wheels\n",
    "drive = {'4wd' : 0, 'fwd' : 1, 'rwd' : 2}\n",
    "#engine-location\n",
    "eng_loc = {'front': 0, 'rear': 1}\n",
    "\n",
    "\n",
    "#engine type\n",
    "eng_type = {'dohc' : 0, 'dohcv' : 1, 'l' : 2, 'ohc' : 3, 'ohcf' : 4, 'ohcv' : 5, 'rotor' : 6}\n",
    "#num cylinders\n",
    "num_cyl = {'eight' : 0, 'five' : 1, 'four' : 2, 'six' : 3, 'three' : 4, 'twelve' : 5, 'two' : 5}\n",
    "#fuel system\n",
    "fuel_sys = {'1bbl' : 0, '2bbl' : 1, '4bbl' : 2, 'idi' : 3, 'mfi' : 4, 'mpfi' : 5, 'spdi' : 6, 'spfi' : 6}\n",
    "\n",
    "#For the attribute of normalized-losses, certain samples lack this attribute. In place of a number is a question sign\n",
    "#For simplicity, I'll replace that question mark with 0."
   ]
  },
  {
   "cell_type": "code",
   "execution_count": null,
   "metadata": {},
   "outputs": [],
   "source": [
    "#replace ?'s\n",
    "for i in range(len(cars[:,0])):\n",
    "    if cars[i,1] == '?': \n",
    "        cars[i,1] = 0\n",
    "    else:\n",
    "        cars[i,1] = int(cars[i,1])\n",
    "\n",
    "#replace make\n",
    "for i in range(len(cars[:,0])):\n",
    "    cars[i,2] = make[cars[i,2]]\n",
    "\n",
    "#replace fuel type\n",
    "for i in range(len(cars[:,0])):\n",
    "    cars[i,3] = fuel_type[cars[i,3]]\n",
    "    \n",
    "#replace aspiration\n",
    "for i in range(len(cars[:,0])):\n",
    "    cars[i,4] = aspiration[cars[i,4]]\n",
    "    \n",
    "#replace num_doors. There are some question marks here. By default I'll give it four doors\n",
    "for i in range(len(cars[:,0])):\n",
    "    if cars[i,5] == '?':\n",
    "        cars[i,5] = 'four'\n",
    "    cars[i,5] = num_doors[cars[i,5]]\n",
    "\n",
    "#replace body style\n",
    "for i in range(len(cars[:,0])):\n",
    "    cars[i,6] = body_style[cars[i,6]]\n",
    "    \n",
    "#replace drive\n",
    "for i in range(len(cars[:,0])):\n",
    "    cars[i,7] = drive[cars[i,7]]\n",
    "    \n",
    "#replace engine location\n",
    "for i in range(len(cars[:,0])):\n",
    "    cars[i,8] = eng_loc[cars[i,8]]\n",
    "\n",
    "#replace engine type\n",
    "for i in range(len(cars[:,0])):\n",
    "    cars[i,14] = eng_type[cars[i,14]]\n",
    "\n",
    "#replace num cylinders    \n",
    "for i in range(len(cars[:,0])):\n",
    "    cars[i,15] = num_cyl[cars[i,15]]\n",
    "    \n",
    "#replace fuel system    \n",
    "for i in range(len(cars[:,0])):\n",
    "    cars[i,17] = fuel_sys[cars[i,17]]\n",
    "    \n",
    "#There are still ?s in the data. We'll iterate through the entire array and make them 0s for simplicity\n",
    "\n",
    "for i in range(len(cars)):\n",
    "    for j in range(len(cars[0])):\n",
    "        if cars[i,j] == '?':\n",
    "            cars[i,j] = 0\n",
    "        else:\n",
    "            cars[i,j] = float(cars[i,j])"
   ]
  },
  {
   "cell_type": "markdown",
   "metadata": {},
   "source": [
    "Now we'll perform the task of LASSO regression. First, we need to calculate the regularization parameter, lamba (or alpha in the case of sklearn's LASSO regression tool)."
   ]
  },
  {
   "cell_type": "code",
   "execution_count": null,
   "metadata": {},
   "outputs": [],
   "source": [
    "#First, discretize lambda\n",
    "\n",
    "lam = np.linspace(0.1, 10, 30)\n",
    "\n",
    "#Then, using each lamba, perform k fold CV and pick the lambda that performed the best"
   ]
  },
  {
   "cell_type": "code",
   "execution_count": null,
   "metadata": {},
   "outputs": [],
   "source": [
    "#Implementation of k-fold cross validation for LASSO \n",
    "\n",
    "def kfoldRegression(k, x, y, l): #k = num folds, x = data, y = prices, l = lamda value \n",
    "    x_split = np.array_split(x, 5)\n",
    "    y_split = np.array_split(y, 5)\n",
    "    models = []\n",
    "\n",
    "    for i in range(0,k):\n",
    "        test = x_split[i]\n",
    "        train_labels = np.hstack([y_split[j] for j in range(0,k) if j != i])\n",
    "        temp = [x_split[j] for j in range(0,k) if j != i]\n",
    "        train = np.vstack(temp)\n",
    "        reg_model = linear_model.Lasso(alpha=l)\n",
    "        reg_model.fit(train, train_labels)\n",
    "        models.append(reg_model)    \n",
    "    \n",
    "    errors = []\n",
    "    for model in models:\n",
    "        predictions = model.predict(x)\n",
    "        error = 0\n",
    "        for i in range(len(predictions)):\n",
    "            error += abs(predictions[i] - y[i])**2\n",
    "        error /= len(predictions)\n",
    "        errors.append(error)\n",
    "        \n",
    "    return np.mean(errors)"
   ]
  },
  {
   "cell_type": "code",
   "execution_count": null,
   "metadata": {},
   "outputs": [],
   "source": [
    "#shape data\n",
    "prices = cars.transpose()[-1]\n",
    "car_data = cars.transpose()[0:len(prices)].transpose()\n",
    "\n",
    "#Determine optimal lambda\n",
    "lambda_errors = []\n",
    "for l in lam:\n",
    "    lambda_errors.append(kfoldRegression(5, car_data, prices, l))\n",
    "\n",
    "#This is our lambda (alpha) value\n",
    "lambda_optimal = lam[lambda_errors.index(min(lambda_errors))]\n",
    "print(\"optimal lambda value: \" + str(lambda_optimal))\n",
    "\n",
    "'''\n",
    "reg_model = linear_model.Lasso(alpha=0.1)\n",
    "reg_model.fit(car_data, prices)\n",
    "\n",
    "price_predictions = reg_model.predict(car_data)\n",
    "\n",
    "error = 0\n",
    "for i in range(len(prices)):\n",
    "    error += abs(prices[i] - price_predictions[i])\n",
    "print(error)\n",
    "'''"
   ]
  },
  {
   "cell_type": "code",
   "execution_count": null,
   "metadata": {},
   "outputs": [],
   "source": [
    "#Now we can train the LASSO regression model\n",
    "LASSO = linear_model.Lasso(alpha=lambda_optimal)\n",
    "LASSO.fit(car_data, prices)\n",
    "#Make predictions\n",
    "predictions = LASSO.predict(car_data)"
   ]
  },
  {
   "cell_type": "code",
   "execution_count": null,
   "metadata": {},
   "outputs": [],
   "source": [
    "plt.plot(prices)\n",
    "plt.plot(predictions)\n",
    "error = 0\n",
    "for i in range(len(prices)):\n",
    "    error = abs(prices[i] - predictions[i])**2\n",
    "error/=len(prices)\n",
    "\n",
    "print(\"error: \" + str(error))"
   ]
  },
  {
   "cell_type": "markdown",
   "metadata": {},
   "source": [
    "Automobile Least Squares"
   ]
  },
  {
   "cell_type": "code",
   "execution_count": null,
   "metadata": {},
   "outputs": [],
   "source": [
    "import pandas as pd\n",
    "file2 = pd.read_csv(\"imports-85.data\")\n",
    "import numpy as np\n",
    "import math\n",
    "from collections import Counter\n",
    "import random\n",
    "from matplotlib import pyplot as plt"
   ]
  },
  {
   "cell_type": "code",
   "execution_count": null,
   "metadata": {},
   "outputs": [],
   "source": [
    "total = file2.values\n",
    "totalnew = [x for x in total if '?' not in x] #data has missing values called '?'. This gets rid of those values.\n",
    "totalnew = np.asarray(totalnew)\n",
    "prices = totalnew[:,-1]\n",
    "data1 = totalnew[:,9:13]#data we are using \n",
    "data2 = totalnew[:,18:24]#data we are using\n",
    "datatotal = np.column_stack((data1,data2))\n",
    "datatotal = datatotal.astype(np.float)\n",
    "prices = prices.astype(np.float)#values we are trying to predict"
   ]
  },
  {
   "cell_type": "code",
   "execution_count": null,
   "metadata": {},
   "outputs": [],
   "source": [
    "def folds(data,k,split): #split is what size split you want\n",
    "    n = []\n",
    "    num1 = 0\n",
    "    num2 = split\n",
    "    for i in range(k-1):\n",
    "        n.append(data[num1:num2])\n",
    "        num1 = num2\n",
    "        num2 = num2 + split\n",
    "    n.append(data[num1:])\n",
    "    return n"
   ]
  },
  {
   "cell_type": "code",
   "execution_count": null,
   "metadata": {},
   "outputs": [],
   "source": [
    "o=folds(datatotal,5,31)\n",
    "p=folds(prices,5,31)"
   ]
  },
  {
   "cell_type": "code",
   "execution_count": null,
   "metadata": {},
   "outputs": [],
   "source": [
    "def least_squares(x,y,test):\n",
    "        wfull = np.linalg.inv(x.T@x)@x.T@y\n",
    "        return test@wfull"
   ]
  },
  {
   "cell_type": "markdown",
   "metadata": {},
   "source": [
    "The least squares regression finds the best w values in the equation y=wx +b. We can simplify this to y = wb since b can be appended to the w and x parameters. The solution we are using is  w=(xTx)−1xTyw=(xTx)−1xTy  which is implemented in least_squares."
   ]
  },
  {
   "cell_type": "code",
   "execution_count": null,
   "metadata": {},
   "outputs": [],
   "source": [
    "def cross_validationleastsquares(k, splitdata, splitlabels,lam=None):\n",
    "    z = np.zeros(k)\n",
    "    final = [];\n",
    "    for i in range(k):\n",
    "        training_data = np.concatenate(np.delete(splitdata, i,0),axis=0)\n",
    "        train_labels = np.concatenate(np.delete(splitlabels, i,0),axis=0)\n",
    "        test_data = splitdata[i]\n",
    "        test_labels = splitlabels[i]\n",
    "        y_tested = least_squares(training_data.astype(float),train_labels.astype(float),test_data.astype(float))\n",
    "        z[i] = error_rate(y_tested.astype(float),test_labels.astype(float))\n",
    "        final = np.concatenate((final,y_tested))\n",
    "    return np.mean(z),final"
   ]
  },
  {
   "cell_type": "markdown",
   "metadata": {},
   "source": [
    "For cross validation leastsquares, each fold will act once as the test data and return a mean squared error. Then, it will return the mean error of all the calculated errors along with there computed values.\n"
   ]
  },
  {
   "cell_type": "code",
   "execution_count": null,
   "metadata": {},
   "outputs": [],
   "source": [
    "def error_rate(trained,actual):\n",
    "    w = np.zeros(trained.shape[0])\n",
    "    for i in range(trained.shape[0]):\n",
    "        w[i] = (trained[i] - actual[i])**2\n",
    "    return np.mean(w)"
   ]
  },
  {
   "cell_type": "markdown",
   "metadata": {},
   "source": [
    "The error rate is mean square error rate.  This means the error is the squared difference between each data value and the actual value.  Then, we take the mean of all these values and return it.  This is useful as we won't have any negative value in our error and we want to measure the error in the distance between the points and actual value."
   ]
  },
  {
   "cell_type": "code",
   "execution_count": null,
   "metadata": {},
   "outputs": [],
   "source": [
    "a,b = cross_validationleastsquares(5,o,p)"
   ]
  },
  {
   "cell_type": "code",
   "execution_count": null,
   "metadata": {},
   "outputs": [],
   "source": [
    "plt.scatter(prices, b)\n",
    "plt.title(\"Measured vs Predicted\")\n",
    "plt.xlabel(\"Measured\")\n",
    "plt.ylabel(\"Predicted\")\n",
    "plt.plot(np.linspace(0,30000,50000),np.linspace(0,30000,50000))\n",
    "plt.show()"
   ]
  },
  {
   "cell_type": "markdown",
   "metadata": {},
   "source": [
    "The plot above measures Least Squared where the x axis are the true values and the y axis are the predicted values. The least squared algorithm is used to find the best fit line. The line represents y=x which represents accuracy of the classifier. The closer the line is to each datapoint, the better the accuracy of the classifier. In our dataset, the measured and predicted points do follow the trend of y=x but contains outliers."
   ]
  },
  {
   "cell_type": "code",
   "execution_count": null,
   "metadata": {},
   "outputs": [],
   "source": [
    "print(\"The error for least squared is\",a,\"which is the mean squared error.  The number is relative to the values seen by the datapoints.\")"
   ]
  },
  {
   "cell_type": "markdown",
   "metadata": {},
   "source": [
    "Automobile Ridge Regression"
   ]
  },
  {
   "cell_type": "code",
   "execution_count": null,
   "metadata": {},
   "outputs": [],
   "source": [
    "def ridge_reg(x,y,test,lam):\n",
    "    wfull = np.linalg.inv(x.T@x + lam*np.identity(x.shape[1]))@x.T@y\n",
    "    return test@wfull"
   ]
  },
  {
   "cell_type": "markdown",
   "metadata": {},
   "source": [
    "We are implementing ridge regression which uses lamda to imprive the result of least squares regression."
   ]
  },
  {
   "cell_type": "code",
   "execution_count": null,
   "metadata": {},
   "outputs": [],
   "source": [
    "def cross_validation_ridge(k, splitdata, splitlabels,lam=None):\n",
    "    z = np.zeros(k)\n",
    "    final = [];\n",
    "    for i in range(k):\n",
    "        training_data = np.concatenate(np.delete(splitdata, i,0),axis=0)\n",
    "        train_labels = np.concatenate(np.delete(splitlabels, i,0),axis=0)\n",
    "        test_data = splitdata[i]\n",
    "        test_labels = splitlabels[i]\n",
    "        if(lam):\n",
    "            y_tested = ridge_reg(training_data.astype(float),train_labels.astype(float),test_data.astype(float),lam)\n",
    "        else:    \n",
    "            y_tested = least_squares(training_data.astype(float),train_labels.astype(float),test_data.astype(float))\n",
    "        z[i] = error_rate(y_tested.astype(float),test_labels.astype(float))\n",
    "        final = np.concatenate((final,y_tested))\n",
    "    return np.mean(z),final"
   ]
  },
  {
   "cell_type": "markdown",
   "metadata": {},
   "source": [
    "Uses cross validation to determine the best lambda value."
   ]
  },
  {
   "cell_type": "code",
   "execution_count": null,
   "metadata": {},
   "outputs": [],
   "source": [
    "def rrmain(k,splitdata,splitlabels,lam):\n",
    "    newsplitdata = np.delete(splitdata, 0,0)\n",
    "    newsplitlabels = np.delete(splitlabels, 0,0)\n",
    "    errlam = np.zeros(lam.size)\n",
    "    for i in range(lam.size):\n",
    "        errlam[i] = (cross_validation_ridge(k-1,newsplitdata,newsplitlabels,lam[i]))[0]\n",
    "    bestlam = lam[np.argmin(errlam)]\n",
    "    print(bestlam)\n",
    "    return cross_validation_ridge(k,splitdata,splitlabels,bestlam)"
   ]
  },
  {
   "cell_type": "code",
   "execution_count": null,
   "metadata": {},
   "outputs": [],
   "source": [
    "rrmain,rrtestans = rrmain(5,o,p,np.linspace(0,10,11))"
   ]
  },
  {
   "cell_type": "markdown",
   "metadata": {},
   "source": [
    "The best lamda value is 10. This was determined by discretizing the values."
   ]
  },
  {
   "cell_type": "code",
   "execution_count": null,
   "metadata": {},
   "outputs": [],
   "source": [
    "import matplotlib.pyplot as plt\n",
    "plt.scatter(prices, rrtestans)\n",
    "plt.title(\"Measured vs Predicted Ridge Regression\")\n",
    "plt.xlabel(\"Measured\")\n",
    "plt.ylabel(\"Predicted\")\n",
    "plt.plot(np.linspace(0,30000,50000),np.linspace(0,30000,50000))\n",
    "plt.show()"
   ]
  },
  {
   "cell_type": "markdown",
   "metadata": {},
   "source": [
    "The plotted data is close to the line x=y, so the ridge regression algorithm is properly functioning."
   ]
  },
  {
   "cell_type": "code",
   "execution_count": null,
   "metadata": {},
   "outputs": [],
   "source": []
  },
  {
   "cell_type": "code",
   "execution_count": null,
   "metadata": {},
   "outputs": [],
   "source": []
  },
  {
   "cell_type": "code",
   "execution_count": null,
   "metadata": {},
   "outputs": [],
   "source": []
  },
  {
   "cell_type": "code",
   "execution_count": null,
   "metadata": {},
   "outputs": [],
   "source": []
  }
 ],
 "metadata": {
  "kernelspec": {
   "display_name": "Python 3",
   "language": "python",
   "name": "python3"
  },
  "language_info": {
   "codemirror_mode": {
    "name": "ipython",
    "version": 3
   },
   "file_extension": ".py",
   "mimetype": "text/x-python",
   "name": "python",
   "nbconvert_exporter": "python",
   "pygments_lexer": "ipython3",
   "version": "3.6.5"
  }
 },
 "nbformat": 4,
 "nbformat_minor": 2
}
